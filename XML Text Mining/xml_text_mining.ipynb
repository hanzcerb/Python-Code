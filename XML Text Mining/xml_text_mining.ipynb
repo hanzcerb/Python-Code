{
 "cells": [
  {
   "cell_type": "markdown",
   "id": "bad7e5fc",
   "metadata": {},
   "source": [
    "# Parsing Text Files"
   ]
  },
  {
   "cell_type": "markdown",
   "id": "a78f4160",
   "metadata": {},
   "source": [
    "## 1. Import Libraries\n",
    "In this task, I will use only 2 library, Regex and Pandas"
   ]
  },
  {
   "cell_type": "code",
   "execution_count": 1,
   "id": "732050f0",
   "metadata": {},
   "outputs": [],
   "source": [
    "import re\n",
    "import pandas as pd"
   ]
  },
  {
   "cell_type": "markdown",
   "id": "8b223f1a",
   "metadata": {},
   "source": [
    "## 2. Read File\n",
    "First thing first, we need to read the file. Function `file_reader()` below will take the txt file and re-format the txt file into a list of XML text file."
   ]
  },
  {
   "cell_type": "code",
   "execution_count": 2,
   "id": "abf33961",
   "metadata": {},
   "outputs": [],
   "source": [
    "# read the text file\n",
    "# return a list of XML text\n",
    "def file_reader(file_name):\n",
    "    # open text file\n",
    "    with open(file_name) as f:\n",
    "        xml_tag_pattern = r'<\\/us-patent-grant>'\n",
    "        xml_lst = []\n",
    "        xml_txt = \"\"\n",
    "        # loop for every line\n",
    "        for line in f:\n",
    "            # add text\n",
    "            xml_txt += line\n",
    "            if re.match(xml_tag_pattern, line):\n",
    "                xml_lst.append(xml_txt)\n",
    "                xml_txt = \"\"\n",
    "        # end for loop line\n",
    "    # end with open\n",
    "    \n",
    "    print(\"Total XML detected: {}\".format(len(xml_lst)))\n",
    "    \n",
    "    return xml_lst"
   ]
  },
  {
   "cell_type": "code",
   "execution_count": null,
   "id": "19b69de6",
   "metadata": {},
   "outputs": [
    {
     "name": "stdout",
     "output_type": "stream",
     "text": [
      "Total XML detected: 150\n"
     ]
    }
   ],
   "source": [
    "xml_lst = file_reader(\"xml_text.txt\")"
   ]
  },
  {
   "cell_type": "markdown",
   "id": "734fec6e",
   "metadata": {},
   "source": [
    "## 3. Extract XML Information\n",
    "### 3.1 Information Extraction Function\n",
    "To extract the information for each data, here we have several function.\n",
    "* `get_title()` function will generate the title of the XML file\n",
    "* `type_a()` function is a function to get the data that has \"type A\", here type A is a type of data capture where the data has a opening tag and has an inline tag to capture the information. The information that consider as this type are grant_id and patent_kind\n",
    "* `type_b()` function is a function to get the data that has \"type B\", here type B is a type of data capture where the data consist of several line and has multiple html tags like \\<p\\> tag or others. Here I will remove the html tag and combine every new into a single line. The information data that consider as this type are abstract.\n",
    "* `type_c()` function is a function to get the data that has \"type C\", here type C is a type of data capture where we need to count the number of data. The information data that consider as this type are the count for citation and examiner count.\n",
    "* `get_inventors()` function will generate the inventors first name and last name.\n",
    "* `get_claim()` function will capture each claim that the XML patent has.\n",
    "* `get_pub_stat()` function will return True if the patent is being published, and return False otherwise. This function will only run if the patent kind are either \"utility patent\" or \"plant patent\"."
   ]
  },
  {
   "cell_type": "code",
   "execution_count": 4,
   "id": "bac9a94a",
   "metadata": {},
   "outputs": [],
   "source": [
    "def get_title(xml_txt, pat):\n",
    "    # check for pattern\n",
    "    found_pat = re.search(pat, xml_txt)\n",
    "    if found_pat:\n",
    "        # remove the HTML entities\n",
    "        return re.sub(r'&#[\\w\\d]+;',\"\",found_pat[0])\n",
    "    # end if\n",
    "    return \"NA\"\n",
    "\n",
    "def type_a(xml_txt, tag, inline):\n",
    "    # check for the tag\n",
    "    found_tag = re.search(tag, xml_txt)\n",
    "    if found_tag:\n",
    "        # search for text pattern\n",
    "        found_pat = re.search(tag, found_tag[0])\n",
    "        if found_pat:\n",
    "            # search for inline pat\n",
    "            found_inline = re.search(inline, found_pat[0])\n",
    "            if found_inline:\n",
    "                # remove the HTML entities\n",
    "                return re.sub(r'&#[\\w\\d]+;',\"\",found_inline[0])\n",
    "            # endif \n",
    "        # endif\n",
    "    # endif\n",
    "    return \"NA\"\n",
    "\n",
    "def type_b(xml_txt, pat):\n",
    "    # check for pattern\n",
    "    found_pat = re.search(pat, xml_txt)\n",
    "    if found_pat:\n",
    "        html_tag = r'<.*?>' # html tag pattern\n",
    "        # split by newline, remove the first list, join using space, remove html tag, remove the HTML entities\n",
    "        text = re.sub(r'&#[\\w\\d]+;',\"\",re.sub(html_tag, \"\", \" \".join(found_pat[0].split(\"\\n\")[1:])))\n",
    "        \n",
    "        return text\n",
    "    # end if\n",
    "    return \"NA\"\n",
    "\n",
    "def type_c(xml_txt, pat, ct_p):\n",
    "    # check for pattern\n",
    "    found_pat = re.search(pat, xml_txt)\n",
    "    if found_pat:\n",
    "        # search for all matches\n",
    "        found_text = re.findall(ct_p, found_pat[0])\n",
    "        if found_text:\n",
    "            return len(found_text)\n",
    "        # end if found text\n",
    "    # enf if found pat\n",
    "    return 0\n",
    "\n",
    "def get_inventors(xml_txt, pat, fname_p, lname_p):\n",
    "    # check for pattern\n",
    "    found_pat = re.search(pat, xml_txt)\n",
    "    if found_pat:\n",
    "        # find first and lastname, zip, make into list, loop for each pair, combine with space\n",
    "        inv_name = \"[\" + \", \".join([\" \".join(name) for name in list(zip(re.findall(fname_p, found_pat[0]), re.findall(lname_p, found_pat[0])))]) + \"]\"\n",
    "        \n",
    "        return inv_name\n",
    "    # end if\n",
    "    return \"NA\"\n",
    "\n",
    "def get_claim(xml_txt, pat, clm_p):\n",
    "    # check for pattern\n",
    "    found_pat = re.search(pat, xml_txt)\n",
    "    if found_pat:\n",
    "        html_tag = r'<.*?>' # html tag pattern\n",
    "        # search for claim text\n",
    "        found_claim = re.findall(clm_p, found_pat[0])\n",
    "        # for every claim text, remove html tag, replace new line with space, after that remove the HTML entities\n",
    "        claim_lst = re.sub(r'&#[\\w\\d]+;',\"\",\"[\" + \", \".join([re.sub(r'\\n', \" \", re.sub(html_tag, \"\",claim)) for claim in found_claim]) + \"]\")\n",
    "        \n",
    "        return claim_lst, len(found_claim)\n",
    "    # end if\n",
    "    return \"NA\", 0\n",
    "\n",
    "def get_pub_stat(xml_txt, pat):\n",
    "    found_pat = re.search(pat, xml_txt)\n",
    "    if found_pat:\n",
    "        return True\n",
    "    else:\n",
    "        return False"
   ]
  },
  {
   "cell_type": "markdown",
   "id": "cea1fba4",
   "metadata": {},
   "source": [
    "### 3.2 Information Fetching\n",
    "`fetch_data()` function will takes a patent XML text as the input and use 3.1 functions to catch all of the information needed, and this function will return a dictionary full of the information from the patent XML"
   ]
  },
  {
   "cell_type": "code",
   "execution_count": 5,
   "id": "27a4db22",
   "metadata": {},
   "outputs": [],
   "source": [
    "def fetch_data(xml_txt):\n",
    "    # grant id tag, grant id inline value\n",
    "    gid_tagp = r'<us-patent-grant.+'\n",
    "    gid_inlp = r'(?<=file=\\\")[A-Z0-9]+'\n",
    "    # patent kind tag, patent kind inline value\n",
    "    pk_tagp = r'<application-reference.+'\n",
    "    pk_inlp = r'(?<=appl-type=\\\")[A-Za-z0-9 ]+'\n",
    "    # publication status\n",
    "    pub_tagp = r'(?<=<related-publication>)[\\s\\S]'\n",
    "    # patent title pattern\n",
    "    pt_tagp = r'(?<=<invention-title id=\\\"[\\d\\w]{5}\\\">)[\\w\\W]+(?=</invention-title>)'\n",
    "    # abstract pattern\n",
    "    abs_tagp = r'(?<=<abstract)[\\w\\W]+(?=</abstract>)'\n",
    "    # claim text tag, claim text inline tag\n",
    "    ct_tagp = r'(?<=<claims id=\\\"claims\\\">\\s)[\\w\\W]+?(?=<\\/claims>)'\n",
    "    ct_inlp = r'(?<=<claim id=\\\"[A-Z\\-0-9]{9}\\\" num=\\\"[\\d]{5}\\\">\\s)[\\w\\W]+?(?=<\\/claim>)'\n",
    "    # citation\n",
    "    citation_tag = r'(?<=us-references-cited>\\s)[\\w\\W]+?(?=<\\/us-references-cited>)'\n",
    "    cec_tagp = r'cited by examiner' # citation examiner count\n",
    "    cac_tagp = r'cited by applicant' # citation application count\n",
    "    # inventors, first name, last name\n",
    "    inv_tagp = r'(?<=<inventors>\\s)[\\w\\W]+?(?=<\\/inventors>)'\n",
    "    fname_tagp = r'(?<=<first-name>)[^<>]+(?=</first-name>)'\n",
    "    lname_tagp = r'(?<=<last-name>)[^<>]+(?=</last-name>)'\n",
    "    \n",
    "    grant_id = type_a(xml_txt, gid_tagp, gid_inlp) # grant id\n",
    "    patent_kind = type_a(xml_txt, pk_tagp, pk_inlp) # patent kind\n",
    "    pub_stat = get_pub_stat(xml_txt, pub_tagp) # publication status\n",
    "    patent_title = get_title(xml_txt, pt_tagp) # patent title\n",
    "    abstract = type_b(xml_txt, abs_tagp) # abstract\n",
    "    inventors = get_inventors(xml_txt, inv_tagp, fname_tagp, lname_tagp) # inventors\n",
    "    claim_text, number_of_claims = get_claim(xml_txt, ct_tagp, ct_inlp) # claim text\n",
    "    citations_examiner_count = type_c(xml_txt, citation_tag, cec_tagp) # num of examiner citation\n",
    "    citations_applicant_count = type_c(xml_txt, citation_tag, cac_tagp) # num of applicant citation\n",
    "    \n",
    "    # patent kind\n",
    "    if patent_kind in [\"utility\", \"plant\"]:\n",
    "        if pub_stat:\n",
    "            patent_kind = patent_kind.capitalize() + \" Patent Grant (with a published application) issued on or after January 2, 2001.\"\n",
    "        else:\n",
    "            patent_kind = patent_kind.capitalize() + \" Patent Grant (no published application) issued on or after January 2, 2001.\"\n",
    "        # end if\n",
    "    else:\n",
    "        patent_kind = patent_kind.capitalize() + \" Patent\"\n",
    "    # end if\n",
    "    \n",
    "    # return a dictionary of fetched data\n",
    "    return {'grant_id':grant_id, 'patent_kind':patent_kind, 'patent_title':patent_title, 'abstract':abstract,\n",
    "            'inventors':inventors, 'claim_text':claim_text, 'number_of_claims':number_of_claims,\n",
    "            'citations_examiner_count':citations_examiner_count,'citations_applicant_count':citations_applicant_count}"
   ]
  },
  {
   "cell_type": "markdown",
   "id": "7f884e35",
   "metadata": {},
   "source": [
    "Now with all of the functions from 3.1 and 3.2, I can extract all of the information. First, I create an empty dictionary, I loop for every list inside the `xml_lst` list and call `fetch_data` function and we can save the first dictionary data that we found, and move on to the next loop.\n",
    "\n",
    "After the loop is finished, here I use Pandas library to create a DataFrame from the dictionary that we got"
   ]
  },
  {
   "cell_type": "code",
   "execution_count": null,
   "id": "4d43156f",
   "metadata": {},
   "outputs": [],
   "source": [
    "dict_lst = {}\n",
    "i = 0\n",
    "for xml in xml_lst:\n",
    "    dict_lst[i] = fetch_data(xml)\n",
    "    i += 1\n",
    "# end for\n",
    "df = pd.DataFrame.from_dict(dict_lst, orient=\"index\")"
   ]
  },
  {
   "cell_type": "markdown",
   "id": "f09f3edf",
   "metadata": {},
   "source": [
    "below is the preview of the first few dataset that I capture"
   ]
  },
  {
   "cell_type": "code",
   "execution_count": 7,
   "id": "3fb654df",
   "metadata": {
    "scrolled": true
   },
   "outputs": [
    {
     "name": "stdout",
     "output_type": "stream",
     "text": [
      "Shape: (150, 9)\n",
      "Unique Grant ID: 150\n"
     ]
    },
    {
     "data": {
      "text/html": [
       "<div>\n",
       "<style scoped>\n",
       "    .dataframe tbody tr th:only-of-type {\n",
       "        vertical-align: middle;\n",
       "    }\n",
       "\n",
       "    .dataframe tbody tr th {\n",
       "        vertical-align: top;\n",
       "    }\n",
       "\n",
       "    .dataframe thead th {\n",
       "        text-align: right;\n",
       "    }\n",
       "</style>\n",
       "<table border=\"1\" class=\"dataframe\">\n",
       "  <thead>\n",
       "    <tr style=\"text-align: right;\">\n",
       "      <th></th>\n",
       "      <th>grant_id</th>\n",
       "      <th>patent_kind</th>\n",
       "      <th>patent_title</th>\n",
       "      <th>abstract</th>\n",
       "      <th>inventors</th>\n",
       "      <th>claim_text</th>\n",
       "      <th>number_of_claims</th>\n",
       "      <th>citations_examiner_count</th>\n",
       "      <th>citations_applicant_count</th>\n",
       "    </tr>\n",
       "  </thead>\n",
       "  <tbody>\n",
       "    <tr>\n",
       "      <th>0</th>\n",
       "      <td>US10361428</td>\n",
       "      <td>Utility Patent Grant (with a published applica...</td>\n",
       "      <td>Anode active material, method of preparing the...</td>\n",
       "      <td>An anode active material including a porous si...</td>\n",
       "      <td>[Young-Ugk Kim, Seung-Uk Kwon, Jae-Hyuk Kim, C...</td>\n",
       "      <td>[1. An anode active material comprising a sili...</td>\n",
       "      <td>15</td>\n",
       "      <td>1</td>\n",
       "      <td>7</td>\n",
       "    </tr>\n",
       "    <tr>\n",
       "      <th>1</th>\n",
       "      <td>USD0854461</td>\n",
       "      <td>Design Patent</td>\n",
       "      <td>Hand rotator for a swivel lift</td>\n",
       "      <td>NA</td>\n",
       "      <td>[Michael A. Haessly]</td>\n",
       "      <td>[The ornamental design for a hand rotator for ...</td>\n",
       "      <td>1</td>\n",
       "      <td>9</td>\n",
       "      <td>0</td>\n",
       "    </tr>\n",
       "    <tr>\n",
       "      <th>2</th>\n",
       "      <td>US10360817</td>\n",
       "      <td>Utility Patent Grant (with a published applica...</td>\n",
       "      <td>Wearable partial task surgical simulator</td>\n",
       "      <td>A wearable device for simulating wounds and in...</td>\n",
       "      <td>[Stuart Charles Segall]</td>\n",
       "      <td>[1. A prosthetic internal organ module compris...</td>\n",
       "      <td>7</td>\n",
       "      <td>25</td>\n",
       "      <td>12</td>\n",
       "    </tr>\n",
       "    <tr>\n",
       "      <th>3</th>\n",
       "      <td>US10357652</td>\n",
       "      <td>Utility Patent Grant (with a published applica...</td>\n",
       "      <td>System and method for using impedance to deter...</td>\n",
       "      <td>A method for implanting a neurostimulation lea...</td>\n",
       "      <td>[Kerry Bradley]</td>\n",
       "      <td>[1. A method performed using a neurostimulatio...</td>\n",
       "      <td>20</td>\n",
       "      <td>4</td>\n",
       "      <td>30</td>\n",
       "    </tr>\n",
       "    <tr>\n",
       "      <th>4</th>\n",
       "      <td>US10360279</td>\n",
       "      <td>Utility Patent Grant (with a published applica...</td>\n",
       "      <td>Computer networking system and method with pre...</td>\n",
       "      <td>An apparatus, method, and non-transitory compu...</td>\n",
       "      <td>[Douglas M. Dillon]</td>\n",
       "      <td>[1. An apparatus-implemented method comprising...</td>\n",
       "      <td>25</td>\n",
       "      <td>22</td>\n",
       "      <td>99</td>\n",
       "    </tr>\n",
       "  </tbody>\n",
       "</table>\n",
       "</div>"
      ],
      "text/plain": [
       "     grant_id                                        patent_kind  \\\n",
       "0  US10361428  Utility Patent Grant (with a published applica...   \n",
       "1  USD0854461                                      Design Patent   \n",
       "2  US10360817  Utility Patent Grant (with a published applica...   \n",
       "3  US10357652  Utility Patent Grant (with a published applica...   \n",
       "4  US10360279  Utility Patent Grant (with a published applica...   \n",
       "\n",
       "                                        patent_title  \\\n",
       "0  Anode active material, method of preparing the...   \n",
       "1                     Hand rotator for a swivel lift   \n",
       "2           Wearable partial task surgical simulator   \n",
       "3  System and method for using impedance to deter...   \n",
       "4  Computer networking system and method with pre...   \n",
       "\n",
       "                                            abstract  \\\n",
       "0  An anode active material including a porous si...   \n",
       "1                                                 NA   \n",
       "2  A wearable device for simulating wounds and in...   \n",
       "3  A method for implanting a neurostimulation lea...   \n",
       "4  An apparatus, method, and non-transitory compu...   \n",
       "\n",
       "                                           inventors  \\\n",
       "0  [Young-Ugk Kim, Seung-Uk Kwon, Jae-Hyuk Kim, C...   \n",
       "1                               [Michael A. Haessly]   \n",
       "2                            [Stuart Charles Segall]   \n",
       "3                                    [Kerry Bradley]   \n",
       "4                                [Douglas M. Dillon]   \n",
       "\n",
       "                                          claim_text  number_of_claims  \\\n",
       "0  [1. An anode active material comprising a sili...                15   \n",
       "1  [The ornamental design for a hand rotator for ...                 1   \n",
       "2  [1. A prosthetic internal organ module compris...                 7   \n",
       "3  [1. A method performed using a neurostimulatio...                20   \n",
       "4  [1. An apparatus-implemented method comprising...                25   \n",
       "\n",
       "   citations_examiner_count  citations_applicant_count  \n",
       "0                         1                          7  \n",
       "1                         9                          0  \n",
       "2                        25                         12  \n",
       "3                         4                         30  \n",
       "4                        22                         99  "
      ]
     },
     "execution_count": 7,
     "metadata": {},
     "output_type": "execute_result"
    }
   ],
   "source": [
    "print(f\"Shape: {df.shape}\")\n",
    "print(f\"Unique Grant ID: {len(df.grant_id.unique())}\")\n",
    "df.head()"
   ]
  },
  {
   "cell_type": "markdown",
   "id": "cc8cf326",
   "metadata": {},
   "source": [
    "## 4. Convert to Document Format\n",
    "### 4.1 CSV\n",
    "To convert the dataset into CSV file, I use a pandas library `pandas.DataFrame.to_csv()`. This function will create a CSV file based on our dataset."
   ]
  },
  {
   "cell_type": "code",
   "execution_count": null,
   "id": "1a0a99da",
   "metadata": {},
   "outputs": [],
   "source": [
    "# to CSV\n",
    "df.to_csv(\"result.csv\")"
   ]
  },
  {
   "cell_type": "markdown",
   "id": "c3ce3f6b",
   "metadata": {},
   "source": [
    "### 4.2 JSON\n",
    "To conver the dataset into JSON file, here I use the manual loop, first we itterate the rows in each dataset, then print each data as a long string with JSON file format. After that I can just write the JSON file using `with open() as file` code."
   ]
  },
  {
   "cell_type": "code",
   "execution_count": null,
   "id": "bc8e6854",
   "metadata": {},
   "outputs": [],
   "source": [
    "# to JSON\n",
    "json_txt = \"{\"\n",
    "for idx, row in df.iterrows():\n",
    "    json_txt += '\"'+row[\"grant_id\"]+'\"' + ':{' + '\"patent_title\": '+'\"'+ row[\"patent_title\"] +'\",' + '\"patent_kind\": '+'\"'+ row[\"patent_kind\"] +'\",' + '\"number_of_claims\": '+ str(row[\"number_of_claims\"]) +',' + '\"inventors\": '+'\"'+ row[\"inventors\"] +'\",' + '\"citations_applicant_count\": ' + str(row[\"citations_applicant_count\"]) +',' + '\"citations_examiner_count\": '+ str(row[\"citations_examiner_count\"]) +',' + '\"claim_text\": '+'\"'+ row[\"claim_text\"] +'\",' + '\"abstract\": '+'\"'+ row[\"abstract\"] +'\"' + '},'\n",
    "    # end txt\n",
    "# end for loop\n",
    "# remove comma at the end and add closing bracket\n",
    "json_txt = json_txt[:-1] + \"}\"\n",
    "# create file\n",
    "with open('result.json', 'w') as f:\n",
    "    f.write(json_txt)"
   ]
  }
 ],
 "metadata": {
  "kernelspec": {
   "display_name": "Python 3 (ipykernel)",
   "language": "python",
   "name": "python3"
  },
  "language_info": {
   "codemirror_mode": {
    "name": "ipython",
    "version": 3
   },
   "file_extension": ".py",
   "mimetype": "text/x-python",
   "name": "python",
   "nbconvert_exporter": "python",
   "pygments_lexer": "ipython3",
   "version": "3.9.16"
  }
 },
 "nbformat": 4,
 "nbformat_minor": 5
}
